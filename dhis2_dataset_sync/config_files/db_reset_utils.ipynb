{
 "cells": [
  {
   "cell_type": "code",
   "execution_count": 1,
   "id": "81ed0566-1ff0-4074-b2b6-1be5a3f942ba",
   "metadata": {},
   "outputs": [],
   "source": [
    "import glob\n",
    "import os\n",
    "import re\n",
    "# from datetime import datetime, timedelta"
   ]
  },
  {
   "cell_type": "code",
   "execution_count": 2,
   "id": "20718ec2-e531-4383-95f0-e7269d3e1900",
   "metadata": {
    "jupyter": {
     "source_hidden": true
    }
   },
   "outputs": [],
   "source": [
    "import sqlite3\n",
    "import threading\n",
    "\n",
    "class Queue:\n",
    "    \"\"\"A thread-safe queue backed by a SQLite database for managing DHIS2 extract file paths.\n",
    "\n",
    "    Methods\n",
    "    -------\n",
    "    enqueue(filename: str)\n",
    "        Add a new filename to the queue if it does not already exist.\n",
    "    dequeue()\n",
    "        Remove and return the first filename in the queue.\n",
    "    peek()\n",
    "        Return the first filename in the queue without removing it.\n",
    "    count() -> int\n",
    "        Return the number of items in the queue.\n",
    "    reset()\n",
    "        Clear all contents from the queue and reset the indexing.\n",
    "    view_queue()\n",
    "        View all elements in the queue without removing them.\n",
    "    count_queue_items() -> int\n",
    "        Count the number of items in the queue.\n",
    "    \"\"\"\n",
    "\n",
    "    def __init__(self, db_path: str):\n",
    "        \"\"\"Initialize the queue with the given SQLite database path.\"\"\"\n",
    "        self.db_path = db_path\n",
    "        self._lock = threading.Lock()\n",
    "        self._initialize_queue()\n",
    "\n",
    "    def _initialize_queue(self):\n",
    "        \"\"\"Create the queue table if it does not exist.\"\"\"\n",
    "        with self._lock, sqlite3.connect(self.db_path) as conn:\n",
    "            cursor = conn.cursor()\n",
    "            cursor.execute(\"\"\"\n",
    "                CREATE TABLE IF NOT EXISTS queue (\n",
    "                    id INTEGER PRIMARY KEY AUTOINCREMENT,\n",
    "                    filename TEXT NOT NULL\n",
    "                )\n",
    "            \"\"\")\n",
    "            conn.commit()\n",
    "\n",
    "    def enqueue(self, filename: str) -> None:\n",
    "        \"\"\"Add a new filename to the queue only if it does not already exist.\"\"\"\n",
    "        with self._lock, sqlite3.connect(self.db_path) as conn:\n",
    "            cursor = conn.cursor()\n",
    "            cursor.execute(\"SELECT COUNT(*) FROM queue WHERE filename = ?\", (filename,))\n",
    "            exists = cursor.fetchone()[0]\n",
    "\n",
    "            if not exists:  # Insert only if the filename does not exist\n",
    "                cursor.execute(\"INSERT INTO queue (filename) VALUES (?)\", (filename,))\n",
    "                conn.commit()\n",
    "\n",
    "    def dequeue(self) -> str:\n",
    "        \"\"\"Remove and return the first filename in the queue.\n",
    "\n",
    "        Returns\n",
    "        -------\n",
    "        str\n",
    "            The filename of the dequeued item, or None if the queue is empty.\n",
    "        \"\"\"\n",
    "        with self._lock, sqlite3.connect(self.db_path) as conn:\n",
    "            cursor = conn.cursor()\n",
    "            cursor.execute(\"SELECT id, filename FROM queue ORDER BY id LIMIT 1\")\n",
    "            item = cursor.fetchone()\n",
    "            if item:\n",
    "                cursor.execute(\"DELETE FROM queue WHERE id = ?\", (item[0],))\n",
    "                conn.commit()\n",
    "                return item[1]\n",
    "        return None\n",
    "\n",
    "    def peek(self) -> str:\n",
    "        \"\"\"Return the first filename in the queue without removing it.\n",
    "\n",
    "        Returns\n",
    "        -------\n",
    "        str\n",
    "            The filename of the first item in the queue, or None if the queue is empty.\n",
    "        \"\"\"\n",
    "        with self._lock, sqlite3.connect(self.db_path) as conn:\n",
    "            cursor = conn.cursor()\n",
    "            cursor.execute(\"SELECT filename FROM queue ORDER BY id LIMIT 1\")\n",
    "            item = cursor.fetchone()\n",
    "        return item[0] if item else None\n",
    "\n",
    "    def count(self) -> int:\n",
    "        \"\"\"Return the number of items in the queue.\n",
    "\n",
    "        Returns\n",
    "        -------\n",
    "        int\n",
    "            The number of items in the queue.\n",
    "        \"\"\"\n",
    "        with self._lock, sqlite3.connect(self.db_path) as conn:\n",
    "            cursor = conn.cursor()\n",
    "            cursor.execute(\"SELECT COUNT(*) FROM queue\")\n",
    "            count = cursor.fetchone()[0]\n",
    "        return count  # noqa: RET504\n",
    "\n",
    "    def reset(self) -> None:\n",
    "        \"\"\"Clear all contents from the queue and reset the indexing.\"\"\"\n",
    "        with self._lock, sqlite3.connect(self.db_path) as conn:\n",
    "            cursor = conn.cursor()\n",
    "            cursor.execute(\"DROP TABLE IF EXISTS queue;\")  # Drop table to reset indexing\n",
    "            conn.commit()\n",
    "        # Recreate table\n",
    "        self._initialize_queue()\n",
    "\n",
    "    def view_queue(self) -> None:\n",
    "        \"\"\"View all elements in the queue without removing them.\"\"\"\n",
    "        with self._lock, sqlite3.connect(self.db_path) as conn:\n",
    "            cursor = conn.cursor()\n",
    "            cursor.execute(\"SELECT id, filename FROM queue ORDER BY id\")\n",
    "            items = cursor.fetchall()\n",
    "            if items:\n",
    "                print(\"Queue contents:\")\n",
    "                for item in items:\n",
    "                    print(f\"ID: {item[0]}, filename: {item[1]}\")\n",
    "            else:\n",
    "                print(\"The queue is empty.\")\n"
   ]
  },
  {
   "cell_type": "markdown",
   "id": "e4105ec3-733d-44e6-a0aa-191fd59c5669",
   "metadata": {},
   "source": [
    "**Run initialize**"
   ]
  },
  {
   "cell_type": "code",
   "execution_count": 3,
   "id": "0545838e-9997-45cf-98b3-e8e2130f275c",
   "metadata": {},
   "outputs": [],
   "source": [
    "# set PATH to DB\n",
    "# extracts_config_path = os.path.join(\"/home/jovyan/workspace/pipelines/dhis2_dataset_sync/configuration\", \".queue.db\")\n",
    "extracts_config_path = os.path.join(r\"C:\\Users\\blues\\Desktop\\Bluesquare\\Repositories\\openhexa-pipelines-drc-prs\\dhis2_dataset_sync\\workspace\\pipelines\\dhis2_dataset_sync\\configuration\", \".queue.db\")\n",
    "\n",
    "queue = Queue(extracts_config_path)"
   ]
  },
  {
   "cell_type": "markdown",
   "id": "6674f170-d068-499d-b582-b0e15add554e",
   "metadata": {},
   "source": [
    "**TEST queue**"
   ]
  },
  {
   "cell_type": "code",
   "execution_count": null,
   "id": "f4f59bea-842b-43b2-8f7c-3a817eef634c",
   "metadata": {},
   "outputs": [],
   "source": [
    "try:\n",
    "    extracts_config_path = os.path.join(\"/home/jovyan/workspace/pipelines/dhis2_dataset_sync/dev\", \".queue.db\")\n",
    "    test_queue = Queue(extracts_config_path)\n",
    "    \n",
    "    test_queue.enqueue(filename=\"output/new_file.parquet\")    \n",
    "    assert test_queue.peek() == 'output/new_file.parquet'\n",
    "    assert test_queue.count() == 1, \"not equal to 1\"\n",
    "    test_queue.dequeue() == 'output/new_file.parquet'\n",
    "    assert test_queue.count() == 0, \"not equal to 0\"\n",
    "    test_queue.enqueue(filename=\"output/new_file.parquet\")\n",
    "    assert test_queue.count() == 1, \"not equal to 1\"\n",
    "    test_queue.view_queue()\n",
    "    test_queue.reset()\n",
    "    print(\"All good!\")\n",
    "except Exception as e:\n",
    "    print(f\"error {e}\")\n",
    "    "
   ]
  },
  {
   "cell_type": "markdown",
   "id": "79d2744b-0fff-40f2-b3d8-c210faf26f4f",
   "metadata": {},
   "source": [
    "**View queue**"
   ]
  },
  {
   "cell_type": "code",
   "execution_count": 4,
   "id": "17536f66-b77c-409b-a910-fd2dda940d4d",
   "metadata": {},
   "outputs": [
    {
     "name": "stdout",
     "output_type": "stream",
     "text": [
      "Queue contents:\n",
      "ID: 1, filename: level_zs|C:\\Users\\blues\\Desktop\\Bluesquare\\Repositories\\openhexa-pipelines-drc-prs\\dhis2_dataset_sync\\workspace\\pipelines\\dhis2_dataset_sync\\data\\extracts\\extract_level_zs\\data_202501.parquet\n"
     ]
    }
   ],
   "source": [
    "# queue.reset()\n",
    "queue.view_queue()"
   ]
  },
  {
   "cell_type": "markdown",
   "id": "bd5d18a6-b3d8-4ad5-964e-01263933c2cb",
   "metadata": {},
   "source": [
    "**Reset DB**"
   ]
  },
  {
   "cell_type": "code",
   "execution_count": null,
   "id": "8e5cbbd2-292b-40b4-8e9a-3a481e20f46f",
   "metadata": {},
   "outputs": [],
   "source": [
    "queue.reset()\n",
    "\n",
    "# Check items\n",
    "print(f\"Total files in DB: {queue.count()}\")"
   ]
  },
  {
   "cell_type": "markdown",
   "id": "6aeb2d38-eab2-491b-a7b8-84ec5a3056ea",
   "metadata": {},
   "source": [
    "**Manually add a specific period**"
   ]
  },
  {
   "cell_type": "code",
   "execution_count": null,
   "id": "c3ec24f1-607f-4372-a226-3616334957f4",
   "metadata": {},
   "outputs": [],
   "source": [
    "periods = generate_periods('202403', '202412')\n",
    "print(periods)"
   ]
  },
  {
   "cell_type": "code",
   "execution_count": 5,
   "id": "8bd7fafc-8cbb-49de-9ba4-ed913ed8e914",
   "metadata": {},
   "outputs": [],
   "source": [
    "queue.enqueue(filename=r\"level_fosa|C:\\Users\\blues\\Desktop\\Bluesquare\\Repositories\\openhexa-pipelines-drc-prs\\dhis2_dataset_sync\\workspace\\pipelines\\dhis2_dataset_sync\\data\\extracts\\extract_level_fosa\\data_202501.parquet\") "
   ]
  },
  {
   "cell_type": "code",
   "execution_count": 8,
   "id": "453682a1-6550-4f8b-82e0-4dca7a2deede",
   "metadata": {},
   "outputs": [
    {
     "name": "stdout",
     "output_type": "stream",
     "text": [
      "Queue contents:\n",
      "ID: 2, filename: level_fosa|C:\\Users\\blues\\Desktop\\Bluesquare\\Repositories\\openhexa-pipelines-drc-prs\\dhis2_dataset_sync\\workspace\\pipelines\\dhis2_dataset_sync\\data\\extracts\\extract_level_fosa\\data_202501.parquet\n"
     ]
    }
   ],
   "source": [
    "queue.view_queue()"
   ]
  },
  {
   "cell_type": "code",
   "execution_count": 7,
   "id": "08d39d82-7093-4fff-a8a6-3e5b1526d204",
   "metadata": {},
   "outputs": [
    {
     "data": {
      "text/plain": [
       "'level_zs|C:\\\\Users\\\\blues\\\\Desktop\\\\Bluesquare\\\\Repositories\\\\openhexa-pipelines-drc-prs\\\\dhis2_dataset_sync\\\\workspace\\\\pipelines\\\\dhis2_dataset_sync\\\\data\\\\extracts\\\\extract_level_zs\\\\data_202501.parquet'"
      ]
     },
     "execution_count": 7,
     "metadata": {},
     "output_type": "execute_result"
    }
   ],
   "source": [
    "queue.dequeue()"
   ]
  },
  {
   "cell_type": "code",
   "execution_count": null,
   "id": "82952344",
   "metadata": {},
   "outputs": [],
   "source": []
  }
 ],
 "metadata": {
  "kernelspec": {
   "display_name": "era5",
   "language": "python",
   "name": "python3"
  },
  "language_info": {
   "codemirror_mode": {
    "name": "ipython",
    "version": 3
   },
   "file_extension": ".py",
   "mimetype": "text/x-python",
   "name": "python",
   "nbconvert_exporter": "python",
   "pygments_lexer": "ipython3",
   "version": "3.11.11"
  }
 },
 "nbformat": 4,
 "nbformat_minor": 5
}
